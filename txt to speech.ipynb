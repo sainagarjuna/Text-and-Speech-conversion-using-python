{
 "cells": [
  {
   "cell_type": "code",
   "execution_count": 2,
   "id": "a1a895d7",
   "metadata": {},
   "outputs": [
    {
     "name": "stdout",
     "output_type": "stream",
     "text": [
      "Collecting pyttsx3\n",
      "  Downloading pyttsx3-2.90-py3-none-any.whl (39 kB)\n",
      "Requirement already satisfied: comtypes in c:\\users\\nagarjuna\\anaconda3\\lib\\site-packages (from pyttsx3) (1.1.9)\n",
      "Requirement already satisfied: pypiwin32 in c:\\users\\nagarjuna\\anaconda3\\lib\\site-packages (from pyttsx3) (223)\n",
      "Requirement already satisfied: pywin32 in c:\\users\\nagarjuna\\anaconda3\\lib\\site-packages (from pyttsx3) (227)\n",
      "Installing collected packages: pyttsx3\n",
      "Successfully installed pyttsx3-2.90\n"
     ]
    }
   ],
   "source": [
    "!pip install pyttsx3"
   ]
  },
  {
   "cell_type": "code",
   "execution_count": 1,
   "id": "6853af38",
   "metadata": {},
   "outputs": [],
   "source": [
    "import pyttsx3\n",
    "obj=pyttsx3.init()\n",
    "obj.say('''hello rama krishna! glad meeting you, How are you?''')\n",
    "'''ip=fp.read()\n",
    "obj.say(ip)\n",
    "obj.save_to_file(ip,\"E:\\\\python projects\\\\sample.mp3\")'''\n",
    "obj.setProperty(\"rate\",200)\n",
    "obj.runAndWait()"
   ]
  },
  {
   "cell_type": "code",
   "execution_count": 14,
   "id": "2c3ac3ec",
   "metadata": {},
   "outputs": [],
   "source": [
    "\"\"\"import pyttsx3\n",
    "obj=pyttsx3.init()\n",
    "fo=open(\"E:\\\\python projects\\\\text1.txt\",\"r\")\n",
    "ip=fo.read()\n",
    "fo.close()\n",
    "obj.setProperty(\"rate\",200)\n",
    "obj.setProperty(\"volume\",1)\n",
    "obj.save_to_file(ip,\"E:\\\\python projects\\\\sample2.mp3\")\n",
    "obj.runAndWait()\"\"\""
   ]
  },
  {
   "cell_type": "code",
   "execution_count": null,
   "id": "d7726e2a",
   "metadata": {},
   "outputs": [],
   "source": []
  }
 ],
 "metadata": {
  "kernelspec": {
   "display_name": "Python 3",
   "language": "python",
   "name": "python3"
  },
  "language_info": {
   "codemirror_mode": {
    "name": "ipython",
    "version": 3
   },
   "file_extension": ".py",
   "mimetype": "text/x-python",
   "name": "python",
   "nbconvert_exporter": "python",
   "pygments_lexer": "ipython3",
   "version": "3.8.8"
  }
 },
 "nbformat": 4,
 "nbformat_minor": 5
}
